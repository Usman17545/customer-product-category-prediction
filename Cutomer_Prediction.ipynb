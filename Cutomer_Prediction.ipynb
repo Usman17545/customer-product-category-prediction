{
 "cells": [
  {
   "cell_type": "code",
   "execution_count": 1,
   "id": "911b13b3",
   "metadata": {},
   "outputs": [],
   "source": [
    "import pandas as pd"
   ]
  },
  {
   "cell_type": "code",
   "execution_count": 2,
   "id": "c9967361",
   "metadata": {},
   "outputs": [],
   "source": [
    "df = pd.read_csv('cleaned_data.csv')"
   ]
  },
  {
   "cell_type": "code",
   "execution_count": 3,
   "id": "72852114",
   "metadata": {},
   "outputs": [
    {
     "name": "stdout",
     "output_type": "stream",
     "text": [
      "Columns in dataset:\n",
      "['Transaction_ID', 'Customer_ID', 'Name', 'Email', 'Phone', 'Address', 'City', 'State', 'Zipcode', 'Country', 'Age', 'Gender', 'Income', 'Customer_Segment', 'Date', 'Year', 'Month', 'Time', 'Total_Purchases', 'Amount', 'Total_Amount', 'Product_Category', 'Product_Brand', 'Product_Type', 'Feedback', 'Shipping_Method', 'Payment_Method', 'Order_Status', 'Ratings', 'products']\n"
     ]
    }
   ],
   "source": [
    "print(\"Columns in dataset:\")\n",
    "print(df.columns.tolist())"
   ]
  },
  {
   "cell_type": "code",
   "execution_count": 4,
   "id": "fc18c050",
   "metadata": {},
   "outputs": [
    {
     "name": "stdout",
     "output_type": "stream",
     "text": [
      "Transaction_ID      0\n",
      "Customer_ID         0\n",
      "Name                0\n",
      "Email               0\n",
      "Phone               0\n",
      "Address             0\n",
      "City                0\n",
      "State               0\n",
      "Zipcode             0\n",
      "Country             0\n",
      "Age                 0\n",
      "Gender              0\n",
      "Income              0\n",
      "Customer_Segment    0\n",
      "Date                0\n",
      "Year                0\n",
      "Month               0\n",
      "Time                0\n",
      "Total_Purchases     0\n",
      "Amount              0\n",
      "Total_Amount        0\n",
      "Product_Category    0\n",
      "Product_Brand       0\n",
      "Product_Type        0\n",
      "Feedback            0\n",
      "Shipping_Method     0\n",
      "Payment_Method      0\n",
      "Order_Status        0\n",
      "Ratings             0\n",
      "products            0\n",
      "dtype: int64\n"
     ]
    }
   ],
   "source": [
    "print(df.isnull().sum())"
   ]
  },
  {
   "cell_type": "code",
   "execution_count": 5,
   "id": "379bcad1",
   "metadata": {},
   "outputs": [
    {
     "name": "stdout",
     "output_type": "stream",
     "text": [
      "Transaction_ID: 293911\n",
      "Customer_ID: 293911\n",
      "Name: 293911\n",
      "Email: 293911\n",
      "Phone: 293911\n",
      "Address: 293911\n",
      "City: 293911\n",
      "State: 293911\n",
      "Zipcode: 293911\n",
      "Country: 293911\n",
      "Age: 293911\n",
      "Gender: 293911\n",
      "Income: 293911\n",
      "Customer_Segment: 293911\n",
      "Date: 293911\n",
      "Year: 293911\n",
      "Month: 293911\n",
      "Time: 293911\n",
      "Total_Purchases: 293911\n",
      "Amount: 293911\n",
      "Total_Amount: 293911\n",
      "Product_Category: 293911\n",
      "Product_Brand: 293911\n",
      "Product_Type: 293911\n",
      "Feedback: 293911\n",
      "Shipping_Method: 293911\n",
      "Payment_Method: 293911\n",
      "Order_Status: 293911\n",
      "Ratings: 293911\n",
      "products: 293911\n"
     ]
    }
   ],
   "source": [
    "for col in df.columns:\n",
    "    print(f\"{col}: {len(df)}\")\n"
   ]
  },
  {
   "cell_type": "code",
   "execution_count": 6,
   "id": "a003218c",
   "metadata": {},
   "outputs": [
    {
     "name": "stdout",
     "output_type": "stream",
     "text": [
      "Product_Category\n",
      "Electronics    69365\n",
      "Grocery        65126\n",
      "Clothing       53282\n",
      "Books          53199\n",
      "Home Decor     52939\n",
      "Name: count, dtype: int64\n"
     ]
    }
   ],
   "source": [
    "print(df['Product_Category'].value_counts())"
   ]
  },
  {
   "cell_type": "code",
   "execution_count": 7,
   "id": "e21955d8",
   "metadata": {},
   "outputs": [
    {
     "name": "stdout",
     "output_type": "stream",
     "text": [
      "Age                 float64\n",
      "Gender               object\n",
      "Income               object\n",
      "Customer_Segment     object\n",
      "Total_Purchases     float64\n",
      "Amount              float64\n",
      "Total_Amount        float64\n",
      "Product_Brand        object\n",
      "Product_Type         object\n",
      "Feedback             object\n",
      "Ratings             float64\n",
      "products             object\n",
      "dtype: object\n"
     ]
    }
   ],
   "source": [
    "columns_to_check = [\n",
    "    'Age',\n",
    "    'Gender',\n",
    "    'Income',\n",
    "    'Customer_Segment',\n",
    "    'Total_Purchases',\n",
    "    'Amount',\n",
    "    'Total_Amount',\n",
    "    'Product_Brand',\n",
    "    'Product_Type',\n",
    "    'Feedback',\n",
    "    'Ratings',\n",
    "    'products'\n",
    "]\n",
    "\n",
    "print(df[columns_to_check].dtypes)\n"
   ]
  },
  {
   "cell_type": "code",
   "execution_count": 8,
   "id": "54ebaa6e",
   "metadata": {},
   "outputs": [
    {
     "name": "stdout",
     "output_type": "stream",
     "text": [
      "Float/Numeric columns: ['Age', 'Total_Purchases', 'Amount', 'Total_Amount', 'Ratings']\n",
      "Object/Categorical columns: ['Gender', 'Income', 'Customer_Segment', 'Product_Brand', 'Product_Type', 'Feedback', 'products']\n"
     ]
    }
   ],
   "source": [
    "# List of columns you want to check\n",
    "columns_to_check = [\n",
    "    'Age', 'Gender', 'Income', 'Customer_Segment', 'Total_Purchases', 'Amount',\n",
    "    'Total_Amount', 'Product_Brand', 'Product_Type', 'Feedback', 'Ratings', 'products'\n",
    "]\n",
    "\n",
    "# Select float columns\n",
    "float_cols = df[columns_to_check].select_dtypes(include=['float64', 'int64']).columns.tolist()\n",
    "\n",
    "# Select object columns\n",
    "object_cols = df[columns_to_check].select_dtypes(include=['object']).columns.tolist()\n",
    "\n",
    "print(\"Float/Numeric columns:\", float_cols)\n",
    "print(\"Object/Categorical columns:\", object_cols)\n"
   ]
  },
  {
   "cell_type": "code",
   "execution_count": 9,
   "id": "4eaa92d9",
   "metadata": {},
   "outputs": [
    {
     "name": "stdout",
     "output_type": "stream",
     "text": [
      "Age                 293911\n",
      "Gender              293911\n",
      "Income              293911\n",
      "Customer_Segment    293911\n",
      "Total_Purchases     293911\n",
      "Amount              293911\n",
      "Total_Amount        293911\n",
      "Product_Brand       293911\n",
      "Product_Type        293911\n",
      "Feedback            293911\n",
      "Ratings             293911\n",
      "products            293911\n",
      "dtype: int64\n"
     ]
    }
   ],
   "source": [
    "# Count non-null values for selected columns\n",
    "print(df[columns_to_check].count())"
   ]
  },
  {
   "cell_type": "code",
   "execution_count": 10,
   "id": "d5fba93e",
   "metadata": {},
   "outputs": [
    {
     "name": "stdout",
     "output_type": "stream",
     "text": [
      "                 Age  Total_Purchases         Amount   Total_Amount  \\\n",
      "count  293911.000000    293911.000000  293911.000000  293911.000000   \n",
      "mean       35.465767         5.359864     255.153307    1367.686983   \n",
      "std        15.017749         2.868440     141.388614    1128.895164   \n",
      "min        18.000000         1.000000      10.000219      10.003750   \n",
      "25%        22.000000         3.000000     132.839683     438.852849   \n",
      "50%        32.000000         5.000000     255.463226    1041.164351   \n",
      "75%        46.000000         8.000000     377.638576    2028.954272   \n",
      "max        70.000000        10.000000     499.997911    4999.625796   \n",
      "\n",
      "             Ratings  \n",
      "count  293911.000000  \n",
      "mean        3.162301  \n",
      "std         1.320762  \n",
      "min         1.000000  \n",
      "25%         2.000000  \n",
      "50%         3.000000  \n",
      "75%         4.000000  \n",
      "max         5.000000  \n"
     ]
    }
   ],
   "source": [
    "print(df[float_cols].describe(include='all'))"
   ]
  },
  {
   "cell_type": "code",
   "execution_count": 11,
   "id": "c16a46de",
   "metadata": {},
   "outputs": [
    {
     "name": "stdout",
     "output_type": "stream",
     "text": [
      "Age                0\n",
      "Total_Purchases    0\n",
      "Amount             0\n",
      "Total_Amount       0\n",
      "Ratings            0\n",
      "dtype: int64\n",
      "Gender              0\n",
      "Income              0\n",
      "Customer_Segment    0\n",
      "Product_Brand       0\n",
      "Product_Type        0\n",
      "Feedback            0\n",
      "products            0\n",
      "dtype: int64\n"
     ]
    }
   ],
   "source": [
    "print(df[float_cols].isnull().sum())\n",
    "print(df[object_cols].isnull().sum())\n"
   ]
  },
  {
   "cell_type": "code",
   "execution_count": 12,
   "id": "02c99a51",
   "metadata": {},
   "outputs": [
    {
     "name": "stdout",
     "output_type": "stream",
     "text": [
      "Age                293911\n",
      "Total_Purchases    293911\n",
      "Amount             293911\n",
      "Total_Amount       293911\n",
      "Ratings            293911\n",
      "dtype: int64\n",
      "Gender              293911\n",
      "Income              293911\n",
      "Customer_Segment    293911\n",
      "Product_Brand       293911\n",
      "Product_Type        293911\n",
      "Feedback            293911\n",
      "products            293911\n",
      "dtype: int64\n"
     ]
    }
   ],
   "source": [
    "print(df[float_cols].count())\n",
    "print(df[object_cols].count())"
   ]
  },
  {
   "cell_type": "code",
   "execution_count": 13,
   "id": "eef342a2",
   "metadata": {},
   "outputs": [
    {
     "data": {
      "image/png": "[encoded data removed]",
      "text/plain": [
       "<Figure size 600x400 with 1 Axes>"
      ]
     },
     "metadata": {},
     "output_type": "display_data"
    },
    {
     "data": {
      "image/png": "[encoded data removed]",
      "text/plain": [
       "<Figure size 600x400 with 1 Axes>"
      ]
     },
     "metadata": {},
     "output_type": "display_data"
    },
    {
     "data": {
      "image/png": "[encoded data removed]",
      "text/plain": [
       "<Figure size 600x400 with 1 Axes>"
      ]
     },
     "metadata": {},
     "output_type": "display_data"
    },
    {
     "data": {
      "image/png": "[encoded data removed]",
      "text/plain": [
       "<Figure size 600x400 with 1 Axes>"
      ]
     },
     "metadata": {},
     "output_type": "display_data"
    },
    {
     "data": {
      "image/png": "[encoded data removed]",
      "text/plain": [
       "<Figure size 600x400 with 1 Axes>"
      ]
     },
     "metadata": {},
     "output_type": "display_data"
    },
    {
     "name": "stdout",
     "output_type": "stream",
     "text": [
      "Age                293911\n",
      "Total_Purchases    293911\n",
      "Amount             293911\n",
      "Total_Amount       293911\n",
      "Ratings            293911\n",
      "dtype: int64\n"
     ]
    }
   ],
   "source": [
    "import matplotlib.pyplot as plt\n",
    "import seaborn as sns\n",
    "\n",
    "# List of numeric columns\n",
    "float_cols = df[columns_to_check].select_dtypes(include=['float64', 'int64']).columns.tolist()\n",
    "\n",
    "# Plot boxplot for each numeric column\n",
    "for col in float_cols:\n",
    "    plt.figure(figsize=(6, 4))\n",
    "    sns.boxplot(x=df[col])\n",
    "    plt.title(f'Boxplot of {col}')\n",
    "    plt.show()\n",
    "print(df[float_cols].count())"
   ]
  },
  {
   "cell_type": "code",
   "execution_count": 14,
   "id": "e1461784",
   "metadata": {},
   "outputs": [
    {
     "name": "stdout",
     "output_type": "stream",
     "text": [
      "Outliers in Age: 0\n",
      "Outliers in Total_Purchases: 0\n",
      "Outliers in Amount: 0\n",
      "Outliers in Total_Amount: 3816\n",
      "Outliers in Ratings: 0\n",
      "Age                293911\n",
      "Total_Purchases    293911\n",
      "Amount             293911\n",
      "Total_Amount       293911\n",
      "Ratings            293911\n",
      "dtype: int64\n"
     ]
    }
   ],
   "source": [
    "def count_outliers(series):\n",
    "    Q1 = series.quantile(0.25)\n",
    "    Q3 = series.quantile(0.75)\n",
    "    IQR = Q3 - Q1\n",
    "    lower_bound = Q1 - 1.5 * IQR\n",
    "    upper_bound = Q3 + 1.5 * IQR\n",
    "    outliers = series[(series < lower_bound) | (series > upper_bound)]\n",
    "    return outliers.count()\n",
    "\n",
    "for col in float_cols:\n",
    "    outlier_count = count_outliers(df[col])\n",
    "    print(f\"Outliers in {col}: {outlier_count}\")\n",
    "print(df[float_cols].count())"
   ]
  },
  {
   "cell_type": "code",
   "execution_count": 15,
   "id": "d5682f42",
   "metadata": {},
   "outputs": [
    {
     "name": "stdout",
     "output_type": "stream",
     "text": [
      "Age                293911\n",
      "Total_Purchases    293911\n",
      "Amount             293911\n",
      "Total_Amount       293911\n",
      "Ratings            293911\n",
      "dtype: int64\n"
     ]
    }
   ],
   "source": [
    "Q1 = df['Total_Amount'].quantile(0.25)\n",
    "Q3 = df['Total_Amount'].quantile(0.75)\n",
    "IQR = Q3 - Q1\n",
    "lower_bound = Q1 - 1.5 * IQR\n",
    "upper_bound = Q3 + 1.5 * IQR\n",
    "\n",
    "# Cap the outliers\n",
    "df['Total_Amount_capped'] = df['Total_Amount'].clip(lower=lower_bound, upper=upper_bound)\n",
    "print(df[float_cols].count())"
   ]
  },
  {
   "cell_type": "code",
   "execution_count": 16,
   "id": "85663cb4",
   "metadata": {},
   "outputs": [
    {
     "data": {
      "image/png": "[encoded data removed]",
      "text/plain": [
       "<Figure size 1200x500 with 2 Axes>"
      ]
     },
     "metadata": {},
     "output_type": "display_data"
    },
    {
     "name": "stdout",
     "output_type": "stream",
     "text": [
      "Age                293911\n",
      "Total_Purchases    293911\n",
      "Amount             293911\n",
      "Total_Amount       293911\n",
      "Ratings            293911\n",
      "dtype: int64\n"
     ]
    }
   ],
   "source": [
    "import matplotlib.pyplot as plt\n",
    "import seaborn as sns\n",
    "\n",
    "plt.figure(figsize=(12,5))\n",
    "\n",
    "plt.subplot(1, 2, 1)\n",
    "sns.boxplot(x=df['Total_Amount'])\n",
    "plt.title('Before Capping')\n",
    "\n",
    "plt.subplot(1, 2, 2)\n",
    "sns.boxplot(x=df['Total_Amount_capped'])\n",
    "plt.title('After Capping')\n",
    "\n",
    "plt.show()\n",
    "print(df[float_cols].count())"
   ]
  },
  {
   "cell_type": "code",
   "execution_count": 17,
   "id": "5e29779e",
   "metadata": {},
   "outputs": [
    {
     "name": "stdout",
     "output_type": "stream",
     "text": [
      "Outliers in Age: 0\n",
      "Outliers in Total_Purchases: 0\n",
      "Outliers in Amount: 0\n",
      "Outliers in Total_Amount: 0\n",
      "Outliers in Ratings: 0\n",
      "Age                293911\n",
      "Total_Purchases    293911\n",
      "Amount             293911\n",
      "Total_Amount       293911\n",
      "Ratings            293911\n",
      "dtype: int64\n"
     ]
    }
   ],
   "source": [
    "def count_outliers(series):\n",
    "    Q1 = series.quantile(0.25)\n",
    "    Q3 = series.quantile(0.75)\n",
    "    IQR = Q3 - Q1\n",
    "    lower_bound = Q1 - 1.5 * IQR\n",
    "    upper_bound = Q3 + 1.5 * IQR\n",
    "    outliers = series[(series < lower_bound) | (series > upper_bound)]\n",
    "    return outliers.count()\n",
    "df['Total_Amount'] = df['Total_Amount_capped']\n",
    "for col in float_cols:\n",
    "    outlier_count = count_outliers(df[col])\n",
    "    print(f\"Outliers in {col}: {outlier_count}\")\n",
    "print(df[float_cols].count())"
   ]
  },
  {
   "cell_type": "code",
   "execution_count": 18,
   "id": "5d6e6d7b",
   "metadata": {},
   "outputs": [
    {
     "name": "stdout",
     "output_type": "stream",
     "text": [
      "                 Age  Total_Purchases         Amount   Total_Amount  \\\n",
      "count  293911.000000    293911.000000  293911.000000  293911.000000   \n",
      "mean       35.465767         5.359864     255.153307    1364.342767   \n",
      "std        15.017749         2.868440     141.388614    1119.257009   \n",
      "min        18.000000         1.000000      10.000219      10.003750   \n",
      "25%        22.000000         3.000000     132.839683     438.852849   \n",
      "50%        32.000000         5.000000     255.463226    1041.164351   \n",
      "75%        46.000000         8.000000     377.638576    2028.954272   \n",
      "max        70.000000        10.000000     499.997911    4414.106406   \n",
      "\n",
      "             Ratings  \n",
      "count  293911.000000  \n",
      "mean        3.162301  \n",
      "std         1.320762  \n",
      "min         1.000000  \n",
      "25%         2.000000  \n",
      "50%         3.000000  \n",
      "75%         4.000000  \n",
      "max         5.000000  \n",
      "Age                293911\n",
      "Total_Purchases    293911\n",
      "Amount             293911\n",
      "Total_Amount       293911\n",
      "Ratings            293911\n",
      "dtype: int64\n"
     ]
    }
   ],
   "source": [
    "print(df[float_cols].describe(include='all'))\n",
    "print(df[float_cols].count())"
   ]
  },
  {
   "cell_type": "code",
   "execution_count": 19,
   "id": "d28290e2",
   "metadata": {},
   "outputs": [
    {
     "data": {
      "text/html": [
       "<div>\n",
       "<style scoped>\n",
       "    .dataframe tbody tr th:only-of-type {\n",
       "        vertical-align: middle;\n",
       "    }\n",
       "\n",
       "    .dataframe tbody tr th {\n",
       "        vertical-align: top;\n",
       "    }\n",
       "\n",
       "    .dataframe thead th {\n",
       "        text-align: right;\n",
       "    }\n",
       "</style>\n",
       "<table border=\"1\" class=\"dataframe\">\n",
       "  <thead>\n",
       "    <tr style=\"text-align: right;\">\n",
       "      <th></th>\n",
       "      <th>Age</th>\n",
       "      <th>Total_Purchases</th>\n",
       "      <th>Amount</th>\n",
       "      <th>Total_Amount</th>\n",
       "      <th>Ratings</th>\n",
       "    </tr>\n",
       "  </thead>\n",
       "  <tbody>\n",
       "    <tr>\n",
       "      <th>0</th>\n",
       "      <td>21.0</td>\n",
       "      <td>3.0</td>\n",
       "      <td>108.028757</td>\n",
       "      <td>324.086270</td>\n",
       "      <td>5.0</td>\n",
       "    </tr>\n",
       "    <tr>\n",
       "      <th>1</th>\n",
       "      <td>19.0</td>\n",
       "      <td>2.0</td>\n",
       "      <td>403.353907</td>\n",
       "      <td>806.707815</td>\n",
       "      <td>4.0</td>\n",
       "    </tr>\n",
       "    <tr>\n",
       "      <th>2</th>\n",
       "      <td>48.0</td>\n",
       "      <td>3.0</td>\n",
       "      <td>354.477600</td>\n",
       "      <td>1063.432799</td>\n",
       "      <td>2.0</td>\n",
       "    </tr>\n",
       "    <tr>\n",
       "      <th>3</th>\n",
       "      <td>56.0</td>\n",
       "      <td>7.0</td>\n",
       "      <td>352.407717</td>\n",
       "      <td>2466.854021</td>\n",
       "      <td>4.0</td>\n",
       "    </tr>\n",
       "    <tr>\n",
       "      <th>4</th>\n",
       "      <td>22.0</td>\n",
       "      <td>2.0</td>\n",
       "      <td>124.276524</td>\n",
       "      <td>248.553049</td>\n",
       "      <td>1.0</td>\n",
       "    </tr>\n",
       "  </tbody>\n",
       "</table>\n",
       "</div>"
      ],
      "text/plain": [
       "    Age  Total_Purchases      Amount  Total_Amount  Ratings\n",
       "0  21.0              3.0  108.028757    324.086270      5.0\n",
       "1  19.0              2.0  403.353907    806.707815      4.0\n",
       "2  48.0              3.0  354.477600   1063.432799      2.0\n",
       "3  56.0              7.0  352.407717   2466.854021      4.0\n",
       "4  22.0              2.0  124.276524    248.553049      1.0"
      ]
     },
     "execution_count": 19,
     "metadata": {},
     "output_type": "execute_result"
    }
   ],
   "source": [
    "df[float_cols].head()"
   ]
  },
  {
   "cell_type": "code",
   "execution_count": 20,
   "id": "cd523145",
   "metadata": {},
   "outputs": [
    {
     "name": "stdout",
     "output_type": "stream",
     "text": [
      "    Age  Total_Purchases      Amount  Total_Amount\n",
      "0  21.0              3.0  108.028757    324.086270\n",
      "1  19.0              2.0  403.353907    806.707815\n",
      "2  48.0              3.0  354.477600   1063.432799\n",
      "3  56.0              7.0  352.407717   2466.854021\n",
      "4  22.0              2.0  124.276524    248.553049\n",
      "Missing values before scaling:\n",
      "Age                0\n",
      "Total_Purchases    0\n",
      "Amount             0\n",
      "Total_Amount       0\n",
      "dtype: int64\n",
      "        Age  Total_Purchases    Amount  Total_Amount\n",
      "0 -0.963246        -0.822701 -1.040570     -0.929419\n",
      "1 -1.096422        -1.171323  1.048181     -0.498220\n",
      "2  0.834629        -0.822701  0.702493     -0.268848\n",
      "3  1.367333         0.571788  0.687853      0.985040\n",
      "4 -0.896658        -1.171323 -0.925654     -0.996904\n",
      "Age                293911\n",
      "Total_Purchases    293911\n",
      "Amount             293911\n",
      "Total_Amount       293911\n",
      "Ratings            293911\n",
      "dtype: int64\n"
     ]
    }
   ],
   "source": [
    "from sklearn.preprocessing import StandardScaler\n",
    "import pandas as pd\n",
    "\n",
    "# Assuming float_cols is a list of your float column names including 'Ratings'\n",
    "float_cols_except_ratings = [col for col in float_cols if col != 'Ratings']\n",
    "\n",
    "# Now copy only those columns except 'Ratings'\n",
    "float_data_copy = df[float_cols_except_ratings].copy()\n",
    "\n",
    "# To verify\n",
    "print(float_data_copy.head())\n",
    "\n",
    "\n",
    "# Check for missing values\n",
    "print(\"Missing values before scaling:\")\n",
    "print(float_data_copy.isnull().sum())\n",
    "\n",
    "# Fill missing values if any\n",
    "float_data_copy = float_data_copy.fillna(float_data_copy.mean())\n",
    "\n",
    "# Initialize scaler and fit_transform on the copy\n",
    "scaler = StandardScaler()\n",
    "df_scaled_values = scaler.fit_transform(float_data_copy)\n",
    "\n",
    "# Convert scaled values back to DataFrame with original index and columns\n",
    "df_scaled = pd.DataFrame(df_scaled_values, columns=float_cols_except_ratings, index=df.index)\n",
    "\n",
    "# Now, if you want to update the original df with scaled values:\n",
    "# Print first 5 rows\n",
    "print(df_scaled.head())\n",
    "\n",
    "# Print count of non-missing values per column\n",
    "# print(df_scaled.count())\n",
    "# print(df[float_cols].count())\n",
    "df[float_cols_except_ratings] = df_scaled\n",
    "print(df[float_cols].count())"
   ]
  },
  {
   "cell_type": "code",
   "execution_count": 21,
   "id": "647c5bae",
   "metadata": {},
   "outputs": [
    {
     "data": {
      "text/html": [
       "<div>\n",
       "<style scoped>\n",
       "    .dataframe tbody tr th:only-of-type {\n",
       "        vertical-align: middle;\n",
       "    }\n",
       "\n",
       "    .dataframe tbody tr th {\n",
       "        vertical-align: top;\n",
       "    }\n",
       "\n",
       "    .dataframe thead th {\n",
       "        text-align: right;\n",
       "    }\n",
       "</style>\n",
       "<table border=\"1\" class=\"dataframe\">\n",
       "  <thead>\n",
       "    <tr style=\"text-align: right;\">\n",
       "      <th></th>\n",
       "      <th>Age</th>\n",
       "      <th>Total_Purchases</th>\n",
       "      <th>Amount</th>\n",
       "      <th>Total_Amount</th>\n",
       "      <th>Ratings</th>\n",
       "    </tr>\n",
       "  </thead>\n",
       "  <tbody>\n",
       "    <tr>\n",
       "      <th>0</th>\n",
       "      <td>-0.963246</td>\n",
       "      <td>-0.822701</td>\n",
       "      <td>-1.040570</td>\n",
       "      <td>-0.929419</td>\n",
       "      <td>5.0</td>\n",
       "    </tr>\n",
       "    <tr>\n",
       "      <th>1</th>\n",
       "      <td>-1.096422</td>\n",
       "      <td>-1.171323</td>\n",
       "      <td>1.048181</td>\n",
       "      <td>-0.498220</td>\n",
       "      <td>4.0</td>\n",
       "    </tr>\n",
       "    <tr>\n",
       "      <th>2</th>\n",
       "      <td>0.834629</td>\n",
       "      <td>-0.822701</td>\n",
       "      <td>0.702493</td>\n",
       "      <td>-0.268848</td>\n",
       "      <td>2.0</td>\n",
       "    </tr>\n",
       "    <tr>\n",
       "      <th>3</th>\n",
       "      <td>1.367333</td>\n",
       "      <td>0.571788</td>\n",
       "      <td>0.687853</td>\n",
       "      <td>0.985040</td>\n",
       "      <td>4.0</td>\n",
       "    </tr>\n",
       "    <tr>\n",
       "      <th>4</th>\n",
       "      <td>-0.896658</td>\n",
       "      <td>-1.171323</td>\n",
       "      <td>-0.925654</td>\n",
       "      <td>-0.996904</td>\n",
       "      <td>1.0</td>\n",
       "    </tr>\n",
       "  </tbody>\n",
       "</table>\n",
       "</div>"
      ],
      "text/plain": [
       "        Age  Total_Purchases    Amount  Total_Amount  Ratings\n",
       "0 -0.963246        -0.822701 -1.040570     -0.929419      5.0\n",
       "1 -1.096422        -1.171323  1.048181     -0.498220      4.0\n",
       "2  0.834629        -0.822701  0.702493     -0.268848      2.0\n",
       "3  1.367333         0.571788  0.687853      0.985040      4.0\n",
       "4 -0.896658        -1.171323 -0.925654     -0.996904      1.0"
      ]
     },
     "execution_count": 21,
     "metadata": {},
     "output_type": "execute_result"
    }
   ],
   "source": [
    "df[float_cols].head()"
   ]
  },
  {
   "cell_type": "code",
   "execution_count": 22,
   "id": "4cbbe9dc",
   "metadata": {},
   "outputs": [
    {
     "name": "stdout",
     "output_type": "stream",
     "text": [
      "--- Checking column: Gender ---\n",
      "Unique values (2): ['Male' 'Female'] ...\n",
      "Number of unique values: 2\n",
      "--- Checking column: Income ---\n",
      "Unique values (3): ['Low' 'High' 'Medium'] ...\n",
      "Number of unique values: 3\n",
      "--- Checking column: Customer_Segment ---\n",
      "Unique values (3): ['Regular' 'Premium' 'New'] ...\n",
      "Number of unique values: 3\n",
      "--- Checking column: Product_Brand ---\n",
      "Unique values (18): ['Nike' 'Samsung' 'Penguin Books' 'Home Depot' 'Nestle' 'Apple' 'Zara'\n",
      " 'Random House' 'Coca-Cola' 'Adidas'] ...\n",
      "Number of unique values: 18\n",
      "--- Checking column: Product_Type ---\n",
      "Unique values (33): ['Shorts' 'Tablet' \"Children's\" 'Tools' 'Chocolate' 'Television' 'Shirt'\n",
      " 'Decorations' 'Non-Fiction' 'Water'] ...\n",
      "Number of unique values: 33\n",
      "--- Checking column: Feedback ---\n",
      "Unique values (4): ['Excellent' 'Average' 'Bad' 'Good'] ...\n",
      "Number of unique values: 4\n",
      "--- Checking column: products ---\n",
      "Unique values (318): ['Cycling shorts' 'Lenovo Tab' 'Sports equipment' 'Utility knife'\n",
      " 'Chocolate cookies' 'QLED TV' 'Dress shirt' 'Dark chocolate' 'Candles'\n",
      " 'Screwdriver set'] ...\n",
      "Number of unique values: 318\n"
     ]
    }
   ],
   "source": [
    "for col in object_cols:\n",
    "    print(f\"--- Checking column: {col} ---\")\n",
    "    unique_vals = df[col].unique()\n",
    "    print(f\"Unique values ({len(unique_vals)}): {unique_vals[:10]} ...\")  # show first 10 unique values\n",
    "    print(f\"Number of unique values: {len(unique_vals)}\")"
   ]
  },
  {
   "cell_type": "code",
   "execution_count": 23,
   "id": "b54a24f7",
   "metadata": {},
   "outputs": [
    {
     "name": "stdout",
     "output_type": "stream",
     "text": [
      "Original\n",
      "  Income Customer_Segment   Feedback\n",
      "0    Low          Regular  Excellent\n",
      "1    Low          Premium  Excellent\n",
      "2    Low          Regular    Average\n",
      "3   High          Premium  Excellent\n",
      "4    Low          Premium        Bad\n",
      "After Label Encode\n",
      "   Income_encoded  Customer_Segment_encoded  Feedback_encoded\n",
      "0               0                         1                 3\n",
      "1               0                         2                 3\n",
      "2               0                         1                 1\n",
      "3               2                         2                 3\n",
      "4               0                         2                 0\n"
     ]
    }
   ],
   "source": [
    "# Define mapping dictionaries for custom order encoding\n",
    "income_map = {'Low': 0, 'Medium': 1, 'High': 2}\n",
    "segment_map = {'New': 0, 'Regular': 1, 'Premium': 2}\n",
    "feedback_map = {'Bad': 0, 'Average': 1, 'Good': 2, 'Excellent': 3}\n",
    "\n",
    "# Apply the mappings\n",
    "df['Income_encoded'] = df['Income'].map(income_map)\n",
    "df['Customer_Segment_encoded'] = df['Customer_Segment'].map(segment_map)\n",
    "df['Feedback_encoded'] = df['Feedback'].map(feedback_map)\n",
    "\n",
    "print(\"Original\")\n",
    "print(df[['Income', 'Customer_Segment', 'Feedback']].head())\n",
    "print(\"After Label Encode\")\n",
    "print(df[['Income_encoded', 'Customer_Segment_encoded', 'Feedback_encoded']].head())\n"
   ]
  },
  {
   "cell_type": "code",
   "execution_count": 24,
   "id": "c4bb57d6",
   "metadata": {},
   "outputs": [
    {
     "name": "stdout",
     "output_type": "stream",
     "text": [
      "products\n",
      "Spring water      2441\n",
      "Bottled water     2428\n",
      "Mystery           2426\n",
      "Alkaline water    2412\n",
      "Artesian water    2410\n",
      "                  ... \n",
      "Towel rack         543\n",
      "Fruit snacks       541\n",
      "Razer Blade        539\n",
      "Parka              530\n",
      "Package AC         220\n",
      "Name: count, Length: 318, dtype: int64\n"
     ]
    }
   ],
   "source": [
    "product_counts = df['products'].value_counts()\n",
    "print(product_counts)\n"
   ]
  },
  {
   "cell_type": "code",
   "execution_count": 25,
   "id": "35e13337",
   "metadata": {},
   "outputs": [
    {
     "name": "stdout",
     "output_type": "stream",
     "text": [
      "            products  products_freq_enc\n",
      "0     Cycling shorts           0.002058\n",
      "1         Lenovo Tab           0.003794\n",
      "2   Sports equipment           0.002035\n",
      "3      Utility knife           0.002038\n",
      "4  Chocolate cookies           0.001980\n"
     ]
    }
   ],
   "source": [
    "# Frequency encoding without grouping (since rare categories are minimal)\n",
    "freq_encoding = df['products'].value_counts(normalize=True)\n",
    "df['products_freq_enc'] = df['products'].map(freq_encoding)\n",
    "\n",
    "print(df[['products', 'products_freq_enc']].head())\n"
   ]
  },
  {
   "cell_type": "code",
   "execution_count": 26,
   "id": "770ed029",
   "metadata": {},
   "outputs": [
    {
     "name": "stdout",
     "output_type": "stream",
     "text": [
      "Product_Type\n",
      "Water                                 0.081106\n",
      "Smartphone                            0.061001\n",
      "Non-Fiction                           0.060127\n",
      "Fiction                               0.059692\n",
      "Juice                                 0.040553\n",
      "Television                            0.040400\n",
      "T-shirt                               0.040390\n",
      "Decorations                           0.040267\n",
      "Shoes                                 0.040175\n",
      "Tablet                                0.039992\n",
      "Soft Drink                            0.039917\n",
      "Furniture                             0.039709\n",
      "Fridge                                0.024800\n",
      "Mitsubishi 1.5 Ton 3 Star Split AC    0.022388\n",
      "Thriller                              0.020795\n",
      "Kitchen                               0.020554\n",
      "Coffee                                0.020414\n",
      "Children's                            0.020312\n",
      "Jeans                                 0.020299\n",
      "Shirt                                 0.020261\n",
      "Dress                                 0.020261\n",
      "Chocolate                             0.020142\n",
      "Headphones                            0.020122\n",
      "Lighting                              0.020091\n",
      "Literature                            0.020078\n",
      "Shorts                                0.020071\n",
      "Bedding                               0.019948\n",
      "Bathroom                              0.019877\n",
      "Jacket                                0.019829\n",
      "Laptop                                0.019792\n",
      "Tools                                 0.019673\n",
      "Snacks                                0.019451\n",
      "BlueStar AC                           0.007512\n",
      "Name: proportion, dtype: float64\n",
      "Product_Brand\n",
      "Pepsi                0.100500\n",
      "Coca-Cola            0.061076\n",
      "HarperCollins        0.060906\n",
      "Zara                 0.060821\n",
      "Samsung              0.060787\n",
      "Sony                 0.060726\n",
      "Adidas               0.060426\n",
      "Bed Bath & Beyond    0.060379\n",
      "Home Depot           0.060130\n",
      "Random House         0.060124\n",
      "Nike                 0.060039\n",
      "Nestle               0.060008\n",
      "Penguin Books        0.059974\n",
      "Apple                0.059794\n",
      "IKEA                 0.059610\n",
      "Whirepool            0.024800\n",
      "Mitsubhisi           0.022388\n",
      "BlueStar             0.007512\n",
      "Name: proportion, dtype: float64\n",
      "   Product_Type  Product_Type_freq_enc  Product_Brand  Product_Brand_freq_enc\n",
      "0        Shorts               0.020071           Nike                0.060039\n",
      "1        Tablet               0.039992        Samsung                0.060787\n",
      "2    Children's               0.020312  Penguin Books                0.059974\n",
      "3         Tools               0.019673     Home Depot                0.060130\n",
      "4     Chocolate               0.020142         Nestle                0.060008\n",
      "5        Tablet               0.039992          Apple                0.059794\n",
      "6    Television               0.040400        Samsung                0.060787\n",
      "7         Shirt               0.020261           Zara                0.060821\n",
      "8     Chocolate               0.020142         Nestle                0.060008\n",
      "9   Decorations               0.040267     Home Depot                0.060130\n",
      "10        Tools               0.019673     Home Depot                0.060130\n",
      "11  Non-Fiction               0.060127   Random House                0.060124\n",
      "12        Water               0.081106      Coca-Cola                0.061076\n",
      "13       Snacks               0.019451         Nestle                0.060008\n",
      "14      T-shirt               0.040390         Adidas                0.060426\n",
      "15   Literature               0.020078   Random House                0.060124\n",
      "16        Water               0.081106          Pepsi                0.100500\n",
      "17       Tablet               0.039992          Apple                0.059794\n",
      "18        Juice               0.040553      Coca-Cola                0.061076\n",
      "19    Furniture               0.039709           IKEA                0.059610\n"
     ]
    }
   ],
   "source": [
    "# Frequency encoding for 'Product_Type'\n",
    "freq_product_type = df['Product_Type'].value_counts(normalize=True)\n",
    "print(freq_product_type)\n",
    "df['Product_Type_freq_enc'] = df['Product_Type'].map(freq_product_type)\n",
    "\n",
    "# Frequency encoding for 'Product_Brand'\n",
    "freq_product_brand = df['Product_Brand'].value_counts(normalize=True)\n",
    "print(freq_product_brand)\n",
    "df['Product_Brand_freq_enc'] = df['Product_Brand'].map(freq_product_brand)\n",
    "\n",
    "# Check the new columns\n",
    "print(df[['Product_Type', 'Product_Type_freq_enc', 'Product_Brand', 'Product_Brand_freq_enc']].head(20))\n"
   ]
  },
  {
   "cell_type": "code",
   "execution_count": 27,
   "id": "02c4d11a",
   "metadata": {},
   "outputs": [
    {
     "data": {
      "text/plain": [
       "0     True\n",
       "1    False\n",
       "2     True\n",
       "3     True\n",
       "4     True\n",
       "Name: Gender_Male, dtype: bool"
      ]
     },
     "execution_count": 27,
     "metadata": {},
     "output_type": "execute_result"
    }
   ],
   "source": [
    "df_one_hot = pd.get_dummies(df, columns=['Gender'], drop_first=True)  # drop_first=True to avoid dummy trap\n",
    "\n",
    "df_one_hot['Gender_Male'].head()"
   ]
  },
  {
   "cell_type": "code",
   "execution_count": 28,
   "id": "3786d033",
   "metadata": {},
   "outputs": [
    {
     "name": "stdout",
     "output_type": "stream",
     "text": [
      "   Income_encoded  Customer_Segment_encoded  Feedback_encoded  Gender_Male  \\\n",
      "0               0                         1                 3            1   \n",
      "1               0                         2                 3            0   \n",
      "2               0                         1                 1            1   \n",
      "3               2                         2                 3            1   \n",
      "4               0                         2                 0            1   \n",
      "\n",
      "   products_freq_enc  Product_Type_freq_enc  Product_Brand_freq_enc  \n",
      "0           0.002058               0.020071                0.060039  \n",
      "1           0.003794               0.039992                0.060787  \n",
      "2           0.002035               0.020312                0.059974  \n",
      "3           0.002038               0.019673                0.060130  \n",
      "4           0.001980               0.020142                0.060008  \n"
     ]
    }
   ],
   "source": [
    "\n",
    "\n",
    "# Select the encoded columns from df\n",
    "label_encoded_df = df[['Income_encoded', 'Customer_Segment_encoded', 'Feedback_encoded']]\n",
    "\n",
    "# Select the one-hot encoded Gender column from df_one_hot\n",
    "gender_one_hot_df = df_one_hot[['Gender_Male']]\n",
    "\n",
    "# Select the frequency encoded product columns from df\n",
    "freq_encoded_df = df[['products_freq_enc', 'Product_Type_freq_enc', 'Product_Brand_freq_enc']]\n",
    "\n",
    "# Concatenate all together horizontally\n",
    "final_df = pd.concat([label_encoded_df, gender_one_hot_df, freq_encoded_df], axis=1)\n",
    "final_df['Gender_Male'] = final_df['Gender_Male'].astype(int)\n",
    "# Print first 5 rows\n",
    "print(final_df.head())"
   ]
  },
  {
   "cell_type": "code",
   "execution_count": 29,
   "id": "aa892640",
   "metadata": {},
   "outputs": [
    {
     "name": "stdout",
     "output_type": "stream",
     "text": [
      "Counts in final_df:\n",
      "Income_encoded              293911\n",
      "Customer_Segment_encoded    293911\n",
      "Feedback_encoded            293911\n",
      "Gender_Male                 293911\n",
      "products_freq_enc           293911\n",
      "Product_Type_freq_enc       293911\n",
      "Product_Brand_freq_enc      293911\n",
      "dtype: int64\n",
      "\n",
      "Counts in df (numeric columns):\n",
      "Age                293911\n",
      "Total_Purchases    293911\n",
      "Amount             293911\n",
      "Total_Amount       293911\n",
      "Ratings            293911\n",
      "dtype: int64\n"
     ]
    }
   ],
   "source": [
    "print(\"Counts in final_df:\")\n",
    "print(final_df.count())\n",
    "\n",
    "print(\"\\nCounts in df (numeric columns):\")\n",
    "print(df[float_cols].count())\n"
   ]
  },
  {
   "cell_type": "code",
   "execution_count": 30,
   "id": "4a1e046f",
   "metadata": {},
   "outputs": [
    {
     "name": "stdout",
     "output_type": "stream",
     "text": [
      "Counts in merged_df:\n",
      "Income_encoded              293911\n",
      "Customer_Segment_encoded    293911\n",
      "Feedback_encoded            293911\n",
      "Gender_Male                 293911\n",
      "products_freq_enc           293911\n",
      "Product_Type_freq_enc       293911\n",
      "Product_Brand_freq_enc      293911\n",
      "Age                         293911\n",
      "Total_Purchases             293911\n",
      "Amount                      293911\n",
      "Total_Amount                293911\n",
      "Ratings                     293911\n",
      "dtype: int64\n"
     ]
    }
   ],
   "source": [
    "merged_df = pd.concat([final_df, df[float_cols]], axis=1)\n",
    "\n",
    "print(\"Counts in merged_df:\")\n",
    "print(merged_df.count())"
   ]
  },
  {
   "cell_type": "code",
   "execution_count": 31,
   "id": "be5af9e5",
   "metadata": {},
   "outputs": [
    {
     "name": "stdout",
     "output_type": "stream",
     "text": [
      "   Income_encoded  Customer_Segment_encoded  Feedback_encoded  Gender_Male  \\\n",
      "0               0                         1                 3            1   \n",
      "1               0                         2                 3            0   \n",
      "2               0                         1                 1            1   \n",
      "3               2                         2                 3            1   \n",
      "4               0                         2                 0            1   \n",
      "\n",
      "   products_freq_enc  Product_Type_freq_enc  Product_Brand_freq_enc       Age  \\\n",
      "0           0.002058               0.020071                0.060039 -0.963246   \n",
      "1           0.003794               0.039992                0.060787 -1.096422   \n",
      "2           0.002035               0.020312                0.059974  0.834629   \n",
      "3           0.002038               0.019673                0.060130  1.367333   \n",
      "4           0.001980               0.020142                0.060008 -0.896658   \n",
      "\n",
      "   Total_Purchases    Amount  Total_Amount  Ratings  \n",
      "0        -0.822701 -1.040570     -0.929419      5.0  \n",
      "1        -1.171323  1.048181     -0.498220      4.0  \n",
      "2        -0.822701  0.702493     -0.268848      2.0  \n",
      "3         0.571788  0.687853      0.985040      4.0  \n",
      "4        -1.171323 -0.925654     -0.996904      1.0  \n"
     ]
    }
   ],
   "source": [
    "print(merged_df.head())"
   ]
  },
  {
   "cell_type": "code",
   "execution_count": 32,
   "id": "b0ef8297",
   "metadata": {},
   "outputs": [
    {
     "data": {
      "text/plain": [
       "Product_Category\n",
       "Electronics    69365\n",
       "Grocery        65126\n",
       "Clothing       53282\n",
       "Books          53199\n",
       "Home Decor     52939\n",
       "Name: count, dtype: int64"
      ]
     },
     "execution_count": 32,
     "metadata": {},
     "output_type": "execute_result"
    }
   ],
   "source": [
    "df['Product_Category'].value_counts()"
   ]
  },
  {
   "cell_type": "code",
   "execution_count": 33,
   "id": "878ad664",
   "metadata": {},
   "outputs": [
    {
     "name": "stdout",
     "output_type": "stream",
     "text": [
      "  Product_Category  Product_Category_encoded\n",
      "0         Clothing                         1\n",
      "1      Electronics                         2\n",
      "2            Books                         0\n",
      "3       Home Decor                         4\n",
      "4          Grocery                         3\n",
      "5      Electronics                         2\n",
      "6      Electronics                         2\n",
      "7         Clothing                         1\n",
      "8          Grocery                         3\n",
      "9       Home Decor                         4\n"
     ]
    }
   ],
   "source": [
    "from sklearn.preprocessing import LabelEncoder\n",
    "\n",
    "le = LabelEncoder()\n",
    "df['Product_Category_encoded'] = le.fit_transform(df['Product_Category'])\n",
    "\n",
    "print(df[['Product_Category', 'Product_Category_encoded']].head(10))"
   ]
  },
  {
   "cell_type": "code",
   "execution_count": 34,
   "id": "e6b8d652",
   "metadata": {},
   "outputs": [
    {
     "name": "stdout",
     "output_type": "stream",
     "text": [
      "   Income_encoded  Customer_Segment_encoded  Feedback_encoded  Gender_Male  \\\n",
      "0               0                         1                 3            1   \n",
      "1               0                         2                 3            0   \n",
      "2               0                         1                 1            1   \n",
      "3               2                         2                 3            1   \n",
      "4               0                         2                 0            1   \n",
      "5               1                         2                 2            0   \n",
      "6               0                         0                 0            0   \n",
      "7               1                         2                 0            1   \n",
      "8               1                         0                 0            1   \n",
      "9               1                         0                 3            1   \n",
      "\n",
      "   products_freq_enc  Product_Type_freq_enc  Product_Brand_freq_enc       Age  \\\n",
      "0           0.002058               0.020071                0.060039 -0.963246   \n",
      "1           0.003794               0.039992                0.060787 -1.096422   \n",
      "2           0.002035               0.020312                0.059974  0.834629   \n",
      "3           0.002038               0.019673                0.060130  1.367333   \n",
      "4           0.001980               0.020142                0.060008 -0.896658   \n",
      "5           0.003794               0.039992                0.059794  1.500509   \n",
      "6           0.004052               0.040400                0.060787 -0.430542   \n",
      "7           0.001990               0.020261                0.060821 -0.430542   \n",
      "8           0.002052               0.020142                0.060008  0.701453   \n",
      "9           0.003794               0.040267                0.060130 -0.696894   \n",
      "\n",
      "   Total_Purchases    Amount  Total_Amount  Ratings  Product_Category_encoded  \n",
      "0        -0.822701 -1.040570     -0.929419      5.0                         1  \n",
      "1        -1.171323  1.048181     -0.498220      4.0                         2  \n",
      "2        -0.822701  0.702493     -0.268848      2.0                         0  \n",
      "3         0.571788  0.687853      0.985040      4.0                         4  \n",
      "4        -1.171323 -0.925654     -0.996904      1.0                         3  \n",
      "5        -0.474079  0.290961     -0.160085      4.0                         2  \n",
      "6        -1.171323  0.423686     -0.655997      1.0                         2  \n",
      "7        -1.519945 -1.475123     -1.177350      1.0                         1  \n",
      "8         0.920410  0.521160      1.131441      1.0                         3  \n",
      "9         1.617654  1.007565      2.333489      4.0                         4  \n"
     ]
    }
   ],
   "source": [
    "# Assuming df has 'Product_Category_encoded' and same index as merged_df\n",
    "merged_df['Product_Category_encoded'] = df['Product_Category_encoded']\n",
    "print(merged_df.head(10))"
   ]
  },
  {
   "cell_type": "code",
   "execution_count": 35,
   "id": "516d50f9",
   "metadata": {},
   "outputs": [
    {
     "name": "stdout",
     "output_type": "stream",
     "text": [
      "Selected features: ['Income_encoded', 'Customer_Segment_encoded', 'Feedback_encoded', 'Gender_Male', 'products_freq_enc', 'Product_Type_freq_enc', 'Product_Brand_freq_enc', 'Ratings']\n",
      "\n",
      "Feature scores:\n",
      "                     Feature         Score\n",
      "6     Product_Brand_freq_enc  42920.409172\n",
      "4          products_freq_enc  20167.288504\n",
      "5      Product_Type_freq_enc  17606.980725\n",
      "11                   Ratings    187.099441\n",
      "2           Feedback_encoded    149.354127\n",
      "3                Gender_Male     93.698246\n",
      "1   Customer_Segment_encoded     22.267226\n",
      "0             Income_encoded     14.728828\n",
      "7                        Age      1.628857\n",
      "8            Total_Purchases      0.382322\n",
      "9                     Amount      0.173668\n",
      "10              Total_Amount      0.116134\n"
     ]
    },
    {
     "data": {
      "image/png": "[encoded data removed]",
      "text/plain": [
       "<Figure size 1000x600 with 1 Axes>"
      ]
     },
     "metadata": {},
     "output_type": "display_data"
    }
   ],
   "source": [
    "from sklearn.feature_selection import SelectKBest, f_classif\n",
    "import pandas as pd\n",
    "import matplotlib.pyplot as plt\n",
    "\n",
    "X = merged_df.drop(columns=['Product_Category_encoded'])  # features\n",
    "y = merged_df['Product_Category_encoded']                 # target\n",
    "\n",
    "selector = SelectKBest(score_func=f_classif, k=8)          # select top 8 features\n",
    "X_new = selector.fit_transform(X, y)\n",
    "\n",
    "selected_features = X.columns[selector.get_support()]\n",
    "print(\"Selected features:\", list(selected_features))\n",
    "\n",
    "# Get scores for all features\n",
    "feature_scores = selector.scores_\n",
    "\n",
    "# Create a DataFrame to show all features and their scores\n",
    "scores_df = pd.DataFrame({'Feature': X.columns, 'Score': feature_scores})\n",
    "\n",
    "# Sort by score descending\n",
    "scores_df = scores_df.sort_values(by='Score', ascending=False)\n",
    "print(\"\\nFeature scores:\")\n",
    "print(scores_df)\n",
    "\n",
    "# Optional: Plot feature scores for visualization\n",
    "plt.figure(figsize=(10,6))\n",
    "plt.bar(scores_df['Feature'], scores_df['Score'])\n",
    "plt.xticks(rotation=45, ha='right')\n",
    "plt.ylabel('Feature Score (ANOVA F-value)')\n",
    "plt.title('Feature Scores from SelectKBest')\n",
    "plt.show()\n"
   ]
  },
  {
   "cell_type": "code",
   "execution_count": 40,
   "id": "455e1306",
   "metadata": {},
   "outputs": [
    {
     "name": "stdout",
     "output_type": "stream",
     "text": [
      "              precision    recall  f1-score   support\n",
      "\n",
      "           0       1.00      1.00      1.00     10715\n",
      "           1       1.00      1.00      1.00     10618\n",
      "           2       1.00      1.00      1.00     14009\n",
      "           3       1.00      1.00      1.00     12938\n",
      "           4       1.00      1.00      1.00     10503\n",
      "\n",
      "    accuracy                           1.00     58783\n",
      "   macro avg       1.00      1.00      1.00     58783\n",
      "weighted avg       1.00      1.00      1.00     58783\n",
      "\n"
     ]
    },
    {
     "data": {
      "image/png": "[encoded data removed]",
      "text/plain": [
       "<Figure size 800x600 with 2 Axes>"
      ]
     },
     "metadata": {},
     "output_type": "display_data"
    }
   ],
   "source": [
    "from sklearn.model_selection import train_test_split\n",
    "from sklearn.ensemble import RandomForestClassifier\n",
    "from sklearn.metrics import classification_report, confusion_matrix\n",
    "import matplotlib.pyplot as plt\n",
    "import seaborn as sns\n",
    "\n",
    "X = merged_df[['products_freq_enc', 'Product_Type_freq_enc', 'Product_Brand_freq_enc']]\n",
    "y = merged_df['Product_Category_encoded']\n",
    "\n",
    "# Train-test split\n",
    "X_train, X_test, y_train, y_test = train_test_split(X, y, test_size=0.2, random_state=42)\n",
    "\n",
    "# Model initialization and training\n",
    "rf = RandomForestClassifier(n_estimators=100, random_state=42)\n",
    "rf.fit(X_train, y_train)\n",
    "\n",
    "# Predictions\n",
    "y_pred = rf.predict(X_test)\n",
    "\n",
    "# Classification report\n",
    "print(classification_report(y_test, y_pred))\n",
    "\n",
    "# Confusion matrix\n",
    "cm = confusion_matrix(y_test, y_pred)\n",
    "\n",
    "# Plot confusion matrix using seaborn heatmap\n",
    "plt.figure(figsize=(8,6))\n",
    "sns.heatmap(cm, annot=True, fmt='d', cmap='Blues', \n",
    "            xticklabels=rf.classes_, yticklabels=rf.classes_)\n",
    "plt.xlabel('Predicted')\n",
    "plt.ylabel('Actual')\n",
    "plt.title('Confusion Matrix')\n",
    "plt.show()\n"
   ]
  },
  {
   "cell_type": "code",
   "execution_count": 46,
   "id": "93db3d27",
   "metadata": {},
   "outputs": [],
   "source": [
    "features = ['Total_Purchases', 'Amount', 'Total_Amount',]\n",
    "X = merged_df[features]"
   ]
  },
  {
   "cell_type": "code",
   "execution_count": null,
   "id": "0f783cf4",
   "metadata": {},
   "outputs": [
    {
     "name": "stdout",
     "output_type": "stream",
     "text": [
      "[0 2 2 1 0 2 2 0 1 1]\n"
     ]
    }
   ],
   "source": [
    "from sklearn.cluster import KMeans\n",
    "\n",
    "# Run clustering\n",
    "kmeans = KMeans(n_clusters=3, random_state=42)\n",
    "clusters = kmeans.fit_predict(X)\n",
    "\n",
    "print(clusters[:10])\n",
    "\n",
    "# If you want to analyze clusters along with original data temporarily, do:\n",
    "clustered_data = merged_df[features].copy()\n",
    "clustered_data['Customer_Cluster'] = clusters\n",
    "\n",
    "# But if you don't want to add column permanently, just use 'clusters' as is\n"
   ]
  },
  {
   "cell_type": "code",
   "execution_count": 50,
   "id": "8c2345c4",
   "metadata": {},
   "outputs": [
    {
     "data": {
      "text/html": [
       "<div>\n",
       "<style scoped>\n",
       "    .dataframe tbody tr th:only-of-type {\n",
       "        vertical-align: middle;\n",
       "    }\n",
       "\n",
       "    .dataframe tbody tr th {\n",
       "        vertical-align: top;\n",
       "    }\n",
       "\n",
       "    .dataframe thead th {\n",
       "        text-align: right;\n",
       "    }\n",
       "</style>\n",
       "<table border=\"1\" class=\"dataframe\">\n",
       "  <thead>\n",
       "    <tr style=\"text-align: right;\">\n",
       "      <th></th>\n",
       "      <th>Total_Purchases</th>\n",
       "      <th>Amount</th>\n",
       "      <th>Total_Amount</th>\n",
       "      <th>Customer_Cluster</th>\n",
       "    </tr>\n",
       "  </thead>\n",
       "  <tbody>\n",
       "    <tr>\n",
       "      <th>0</th>\n",
       "      <td>-0.822701</td>\n",
       "      <td>-1.040570</td>\n",
       "      <td>-0.929419</td>\n",
       "      <td>0</td>\n",
       "    </tr>\n",
       "    <tr>\n",
       "      <th>1</th>\n",
       "      <td>-1.171323</td>\n",
       "      <td>1.048181</td>\n",
       "      <td>-0.498220</td>\n",
       "      <td>2</td>\n",
       "    </tr>\n",
       "    <tr>\n",
       "      <th>2</th>\n",
       "      <td>-0.822701</td>\n",
       "      <td>0.702493</td>\n",
       "      <td>-0.268848</td>\n",
       "      <td>2</td>\n",
       "    </tr>\n",
       "    <tr>\n",
       "      <th>3</th>\n",
       "      <td>0.571788</td>\n",
       "      <td>0.687853</td>\n",
       "      <td>0.985040</td>\n",
       "      <td>1</td>\n",
       "    </tr>\n",
       "    <tr>\n",
       "      <th>4</th>\n",
       "      <td>-1.171323</td>\n",
       "      <td>-0.925654</td>\n",
       "      <td>-0.996904</td>\n",
       "      <td>0</td>\n",
       "    </tr>\n",
       "  </tbody>\n",
       "</table>\n",
       "</div>"
      ],
      "text/plain": [
       "   Total_Purchases    Amount  Total_Amount  Customer_Cluster\n",
       "0        -0.822701 -1.040570     -0.929419                 0\n",
       "1        -1.171323  1.048181     -0.498220                 2\n",
       "2        -0.822701  0.702493     -0.268848                 2\n",
       "3         0.571788  0.687853      0.985040                 1\n",
       "4        -1.171323 -0.925654     -0.996904                 0"
      ]
     },
     "execution_count": 50,
     "metadata": {},
     "output_type": "execute_result"
    }
   ],
   "source": [
    "clustered_data.head()"
   ]
  }
 ],
 "metadata": {
  "kernelspec": {
   "display_name": "tf_env",
   "language": "python",
   "name": "python3"
  },
  "language_info": {
   "codemirror_mode": {
    "name": "ipython",
    "version": 3
   },
   "file_extension": ".py",
   "mimetype": "text/x-python",
   "name": "python",
   "nbconvert_exporter": "python",
   "pygments_lexer": "ipython3",
   "version": "3.10.10"
  }
 },
 "nbformat": 4,
 "nbformat_minor": 5
}
